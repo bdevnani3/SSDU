{
 "cells": [
  {
   "cell_type": "code",
   "execution_count": 3,
   "id": "2ff932b8",
   "metadata": {},
   "outputs": [],
   "source": [
    "import torch\n",
    "import sys\n",
    "from fastmri.data.subsample import create_mask_for_mask_type\n",
    "sys.path.insert(0, \"/srv/share4/ksarangmath3/mri/fastMRI/fastmri/models/\")\n",
    "from fastmri.pl_modules import FastMriDataModule, UnetModule\n",
    "from fastmri.data.transforms import UnetDataTransform\n",
    "from fastmri.data import CombinedSliceDataset, SliceDataset\n",
    "from fastmri.evaluate import ssim\n",
    "from PIL import Image\n",
    "import numpy as np\n",
    "import matplotlib.pyplot as plt\n",
    "\n",
    "#LOAD MODEL HERE, THIS SHOULD BE ALL YOU NEED TO CHANGE\n",
    "model = UnetModule.load_from_checkpoint(checkpoint_path='/srv/share4/ksarangmath3/mri/fastMRI/fastmri_examples/unet/unet/unet_demo/checkpoints/epoch=40-step=87944.ckpt')\n",
    "model.eval()\n",
    "\n",
    "challenge = 'singlecoil'\n",
    "data_partition = 'val'\n",
    "data_path =  f\"/srv/share4/ksarangmath3/mri/data/{challenge}_{data_partition}\"\n",
    "mask = create_mask_for_mask_type(\n",
    "        'random', [0.08], [4]\n",
    "    )\n",
    "val_transform = UnetDataTransform(challenge, mask_func=mask)\n",
    "dataset = SliceDataset(\n",
    "                root=data_path,\n",
    "                transform=val_transform,\n",
    "                # sample_rate=sample_rate,\n",
    "                # volume_sample_rate=volume_sample_rate,\n",
    "                challenge=challenge,\n",
    "                use_dataset_cache=True\n",
    "            )\n",
    "# sampler = torch.utils.data.DistributedSampler(dataset)\n",
    "dataloader = torch.utils.data.DataLoader(\n",
    "            dataset=dataset,\n",
    "            batch_size=1,\n",
    "            num_workers=0,\n",
    "            # worker_init_fn=worker_init_fn,\n",
    "            # sampler=sampler,\n",
    "        )\n",
    "dataset_len = len(dataset)\n"
   ]
  },
  {
   "cell_type": "code",
   "execution_count": 13,
   "id": "0a270265",
   "metadata": {},
   "outputs": [
    {
     "name": "stdout",
     "output_type": "stream",
     "text": [
      "done with 0 steps out of 1414 steps\n",
      "model SSIM is 0\n",
      "baseline SSIM is 0\n",
      "0.4114609457125574 - MODEL SSIM\n",
      "0.3001654195007136 - BASELINE SSIM\n"
     ]
    }
   ],
   "source": [
    "ssim_list = []\n",
    "\n",
    "#baseline SSIM means no reconstruction is done on downsampled image when computing SSIM to target\n",
    "ssim_baseline_list = []\n",
    "for i,data in enumerate(dataloader):\n",
    "    with torch.no_grad():\n",
    "        if i % 100 == 0:\n",
    "            print(f\"done with {i} steps out of {dataset_len} steps\")\n",
    "            print(f\"model SSIM is {0 if i == 0 else np.mean(ssim_list)}\")\n",
    "            print(f\"baseline SSIM is {0 if i == 0 else np.mean(ssim_baseline_list)}\")\n",
    "        ssim_list.append(ssim(model(data[0]).numpy(), data[1].numpy()))\n",
    "        ssim_baseline_list.append(ssim(data[0].numpy(), data[1].numpy()))\n",
    "        if i > 15:\n",
    "            plt.imsave(\"original_unet.png\",data[0].squeeze(),cmap=\"gray\")\n",
    "            plt.imsave(\"target_unet.png\",data[1].squeeze(),cmap=\"gray\")\n",
    "            plt.imsave(\"reconstruction_unet.png\",model(data[0]).squeeze(),cmap=\"gray\")\n",
    "            break\n",
    "        # print(ssim_list[-1])\n",
    "\n",
    "print(np.mean(ssim_list), '- MODEL SSIM')\n",
    "print(np.mean(ssim_baseline_list), '- BASELINE SSIM')"
   ]
  },
  {
   "cell_type": "code",
   "execution_count": null,
   "id": "da42261d",
   "metadata": {},
   "outputs": [],
   "source": []
  }
 ],
 "metadata": {
  "kernelspec": {
   "display_name": "Python 3",
   "language": "python",
   "name": "python3"
  },
  "language_info": {
   "codemirror_mode": {
    "name": "ipython",
    "version": 3
   },
   "file_extension": ".py",
   "mimetype": "text/x-python",
   "name": "python",
   "nbconvert_exporter": "python",
   "pygments_lexer": "ipython3",
   "version": "3.8.8"
  }
 },
 "nbformat": 4,
 "nbformat_minor": 5
}
