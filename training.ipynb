{
 "metadata": {
  "language_info": {
   "codemirror_mode": {
    "name": "ipython",
    "version": 3
   },
   "file_extension": ".py",
   "mimetype": "text/x-python",
   "name": "python",
   "nbconvert_exporter": "python",
   "pygments_lexer": "ipython3",
   "version": "3.8.5"
  },
  "orig_nbformat": 2,
  "kernelspec": {
   "name": "python385jvsc74a57bd06250aeecf667241d2415373c88b70d4f824c8a2781323a01ee2a69a098796f4a",
   "display_name": "Python 3.8.5 64-bit ('p3': conda)"
  },
  "metadata": {
   "interpreter": {
    "hash": "6250aeecf667241d2415373c88b70d4f824c8a2781323a01ee2a69a098796f4a"
   }
  }
 },
 "nbformat": 4,
 "nbformat_minor": 2,
 "cells": [
  {
   "cell_type": "code",
   "execution_count": 40,
   "metadata": {},
   "outputs": [],
   "source": [
    "import tensorflow as tf\n",
    "import scipy.io as sio\n",
    "import numpy as np\n",
    "import time\n",
    "from datetime import datetime\n",
    "import os\n",
    "import h5py as h5\n",
    "import utils\n",
    "import tf_utils\n",
    "import parser_ops\n",
    "import masks.ssdu_masks as ssdu_masks\n",
    "import UnrollNet"
   ]
  },
  {
   "cell_type": "code",
   "execution_count": 47,
   "metadata": {},
   "outputs": [],
   "source": [
    "file_name = '/srv/share4/ksarangmath3/mri/data/singlecoil_train/file1000017.h5'\n"
   ]
  },
  {
   "cell_type": "code",
   "execution_count": 48,
   "metadata": {},
   "outputs": [],
   "source": [
    "os.environ[\"HDF5_USE_FILE_LOCKING\"] = \"FALSE\"\n",
    "os.environ[\"CUDA_VISIBLE_DEVICES\"] = \"0\""
   ]
  },
  {
   "cell_type": "code",
   "execution_count": 49,
   "metadata": {},
   "outputs": [],
   "source": [
    "f = h5.File(file_name, \"r\")"
   ]
  },
  {
   "cell_type": "code",
   "execution_count": 52,
   "metadata": {},
   "outputs": [],
   "source": [
    "kspace_train = f['kspace'][:]\n",
    "# kspace_train = np.expand_dims(kspace_train, axis=1)\n",
    "kspace_shape = kspace_train.shape"
   ]
  },
  {
   "cell_type": "code",
   "execution_count": 54,
   "metadata": {},
   "outputs": [
    {
     "output_type": "execute_result",
     "data": {
      "text/plain": [
       "(34, 640, 372, 1)"
      ]
     },
     "metadata": {},
     "execution_count": 54
    }
   ],
   "source": [
    "np.expand_dims(kspace_train,axis=3).shape"
   ]
  },
  {
   "cell_type": "code",
   "execution_count": 29,
   "metadata": {},
   "outputs": [
    {
     "output_type": "execute_result",
     "data": {
      "text/plain": [
       "(34, 320, 320)"
      ]
     },
     "metadata": {},
     "execution_count": 29
    }
   ],
   "source": [
    "rec_rss = f['reconstruction_rss'][:]\n",
    "rec_rss.shape"
   ]
  },
  {
   "cell_type": "code",
   "execution_count": 30,
   "metadata": {},
   "outputs": [
    {
     "output_type": "execute_result",
     "data": {
      "text/plain": [
       "(34, 320, 320)"
      ]
     },
     "metadata": {},
     "execution_count": 30
    }
   ],
   "source": [
    "# Ground truth\n",
    "rec_esc = f['reconstruction_esc'][:]\n",
    "rec_esc.shape"
   ]
  },
  {
   "cell_type": "code",
   "execution_count": 31,
   "metadata": {},
   "outputs": [],
   "source": [
    "from fastmri.data.subsample import create_mask_for_mask_type"
   ]
  },
  {
   "cell_type": "code",
   "execution_count": 32,
   "metadata": {},
   "outputs": [],
   "source": [
    "mask_fn = create_mask_for_mask_type(\"random\",[0.08], [4])"
   ]
  },
  {
   "cell_type": "code",
   "execution_count": 33,
   "metadata": {},
   "outputs": [],
   "source": [
    "mask = mask_fn(kspace_shape, 1)"
   ]
  },
  {
   "cell_type": "code",
   "execution_count": 34,
   "metadata": {},
   "outputs": [
    {
     "output_type": "execute_result",
     "data": {
      "text/plain": [
       "torch.Size([1, 1, 640, 1])"
      ]
     },
     "metadata": {},
     "execution_count": 34
    }
   ],
   "source": [
    "mask.shape"
   ]
  },
  {
   "cell_type": "code",
   "execution_count": 35,
   "metadata": {},
   "outputs": [
    {
     "output_type": "execute_result",
     "data": {
      "text/plain": [
       "(34, 1, 640, 372)"
      ]
     },
     "metadata": {},
     "execution_count": 35
    }
   ],
   "source": [
    "kspace_shape"
   ]
  },
  {
   "cell_type": "code",
   "execution_count": 36,
   "metadata": {},
   "outputs": [
    {
     "output_type": "error",
     "ename": "NameError",
     "evalue": "name 'bart' is not defined",
     "traceback": [
      "\u001b[0;31m---------------------------------------------------------------------------\u001b[0m",
      "\u001b[0;31mNameError\u001b[0m                                 Traceback (most recent call last)",
      "\u001b[0;32m<ipython-input-36-432c69fe45fb>\u001b[0m in \u001b[0;36m<module>\u001b[0;34m\u001b[0m\n\u001b[0;32m----> 1\u001b[0;31m \u001b[0msens_maps\u001b[0m \u001b[0;34m=\u001b[0m \u001b[0mbart\u001b[0m\u001b[0;34m.\u001b[0m\u001b[0mbart\u001b[0m\u001b[0;34m(\u001b[0m\u001b[0;36m1\u001b[0m\u001b[0;34m,\u001b[0m \u001b[0;34mf\"ecalib -d0 -m1 -r\"\u001b[0m\u001b[0;34m,\u001b[0m \u001b[0mkspace_train\u001b[0m\u001b[0;34m)\u001b[0m\u001b[0;34m\u001b[0m\u001b[0;34m\u001b[0m\u001b[0m\n\u001b[0m",
      "\u001b[0;31mNameError\u001b[0m: name 'bart' is not defined"
     ]
    }
   ],
   "source": [
    "sens_maps = bart.bart(1, f\"ecalib -d0 -m1 -r\", kspace_train)"
   ]
  },
  {
   "cell_type": "code",
   "execution_count": 1,
   "metadata": {},
   "outputs": [
    {
     "output_type": "stream",
     "name": "stderr",
     "text": [
      "usage: ipykernel_launcher.py [-h] [--acc_rate ACC_RATE] [--epochs EPOCHS]\n                             [--learning_rate LEARNING_RATE]\n                             [--batchSize BATCHSIZE]\n                             [--nb_unroll_blocks NB_UNROLL_BLOCKS]\n                             [--nb_res_blocks NB_RES_BLOCKS]\n                             [--CG_Iter CG_ITER] [--data_opt DATA_OPT]\n                             [--nrow_GLOB NROW_GLOB] [--ncol_GLOB NCOL_GLOB]\n                             [--ncoil_GLOB NCOIL_GLOB]\n                             [--mask_type {Gaussian,Uniform}] [--rho RHO]\nipykernel_launcher.py: error: unrecognized arguments: -f /nethome/bdevnani3/.local/share/jupyter/runtime/kernel-9f597231-a92f-41fa-8220-9b913bda16b2.json\n"
     ]
    },
    {
     "output_type": "error",
     "ename": "SystemExit",
     "evalue": "2",
     "traceback": [
      "An exception has occurred, use %tb to see the full traceback.\n",
      "\u001b[0;31mSystemExit\u001b[0m\u001b[0;31m:\u001b[0m 2\n"
     ]
    }
   ],
   "source": [
    "# import tensorflow as tf\n",
    "import scipy.io as sio\n",
    "import numpy as np\n",
    "import time\n",
    "from datetime import datetime\n",
    "import os\n",
    "import h5py as h5\n",
    "import utils\n",
    "import tf_utils\n",
    "import parser_ops\n",
    "import masks.ssdu_masks as ssdu_masks\n",
    "import UnrollNet\n",
    "from tensorflow.python.framework import ops\n",
    "import tensorflow.compat.v1 as tf\n",
    "tf.disable_v2_behavior()\n",
    "tf.logging.set_verbosity(tf.logging.INFO)\n",
    "\n",
    "from fastmri.data.subsample import create_mask_for_mask_type\n",
    "\n",
    "\n",
    "# if __name__ == \"main\":\n",
    "parser = parser_ops.get_parser()\n",
    "args = parser.parse_args()\n",
    "os.environ[\"HDF5_USE_FILE_LOCKING\"] = \"FALSE\"\n",
    "os.environ[\"CUDA_VISIBLE_DEVICES\"] = \"0\"\n",
    "\n",
    "save_dir ='saved_models'\n",
    "directory = os.path.join(save_dir, 'SSDU_' + args.data_opt + '_' +str(args.epochs)+'Epochs_Rate'+ str(args.acc_rate) +\\\n",
    "                         '_' + str(args.nb_unroll_blocks) + 'Unrolls_' + args.mask_type+'Selection' )\n",
    "\n",
    "if not os.path.exists(directory):\n",
    "    os.makedirs(directory)\n",
    "\n",
    "# tf.logging.info('\\n create a test model for the testing')\n",
    "# test_graph_generator = tf_utils.test_graph(directory)\n",
    "\n",
    "#...........................................................................d....\n",
    "start_time = time.time()\n",
    "tf.logging.info('.................SSDU Training.....................')\n",
    "ops.reset_default_graph()\n",
    "config = tf.ConfigProto()\n",
    "config.gpu_options.allow_growth = True\n",
    "config.allow_soft_placement = True\n",
    "\n",
    "# .......................Load the Data..........................................\n",
    "tf.logging.info('\\n Loading {args.data_opt} data, acc rate : {args.acc_rate} mask type : {args.mask_type}')\n",
    "\n",
    "##TODO(): Use all the training data, not just one file\n",
    "kspace_dir = '/srv/share4/ksarangmath3/mri/data/singlecoil_train/file1000017.h5'\n",
    "kspace_train = h5.File(kspace_dir, \"r\")['kspace'][:]\n",
    "\n",
    "## Adding dimension for coil\n",
    "kspace_train = np.expand_dims(kspace_train,3)\n",
    "kspace_shape = kspace_train.shape\n",
    "\n",
    "##TODO(): GET actual sensitivity maps \n",
    "sens_maps = np.ones(kspace_shape)\n",
    "\n",
    "tf.logging.info('\\n Normalize the kspace to 0-1 region')\n",
    "for ii in range(np.shape(kspace_train)[0]):\n",
    "    kspace_train[ii, :, :, :] = kspace_train[ii, :, :, :] / np.max(np.abs(kspace_train[ii, :, :, :][:]))\n",
    "\n",
    "nSlices, *_ = kspace_train.shape\n",
    "\n",
    "#TODO(): Use generated masks\n",
    "# mask_fn = create_mask_for_mask_type(\"random\",[0.08], [4])\n",
    "# original_mask = mask_fn((1,34,640,372), 1)\n",
    "original_mask = np.zeros((args.nrow_GLOB, args.ncol_GLOB))\n",
    "original_mask[:,:10] = 1\n",
    "\n",
    "tf.logging.info(f'\\n size of kspace: {kspace_train.shape}, maps: {sens_maps.shape}, mask: {original_mask.shape}')\n",
    "\n",
    "\n",
    "trn_mask, loss_mask = np.empty((nSlices, args.nrow_GLOB, args.ncol_GLOB), dtype=np.complex64), \\\n",
    "                      np.empty((nSlices, args.nrow_GLOB, args.ncol_GLOB), dtype=np.complex64)\n",
    "\n",
    "nw_input = np.empty((nSlices, args.nrow_GLOB, args.ncol_GLOB), dtype=np.complex64)\n",
    "ref_kspace = np.empty((nSlices, args.nrow_GLOB, args.ncol_GLOB, args.ncoil_GLOB), dtype=np.complex64)\n",
    "\n",
    "tf.logging.info('\\n create training and loss masks and generate network inputs... ')\n",
    "ssdu_masker = ssdu_masks.ssdu_masks()\n",
    "for ii in range(nSlices):\n",
    "    if np.mod(ii, 50) == 0:\n",
    "        tf.logging.info(f'\\n Iteration: {ii}')\n",
    "\n",
    "    if args.mask_type == 'Gaussian':\n",
    "        # tf.logging.info(original_mask)\n",
    "        trn_mask[ii, ...], loss_mask[ii, ...] = ssdu_masker.Gaussian_selection(kspace_train[ii], original_mask, num_iter=ii)\n",
    "\n",
    "    elif args.mask_type == 'Uniform':\n",
    "        trn_mask[ii, ...], loss_mask[ii, ...] = ssdu_masker.uniform_selection(kspace_train[ii], original_mask, num_iter=ii)\n",
    "        \n",
    "    else:\n",
    "        raise ValueError('Invalid mask selection')\n",
    "\n",
    "    sub_kspace = kspace_train[ii] * np.tile(trn_mask[ii][..., np.newaxis], (1, 1, args.ncoil_GLOB))\n",
    "    ref_kspace[ii, ...] = kspace_train[ii] * np.tile(loss_mask[ii][..., np.newaxis], (1, 1, args.ncoil_GLOB))\n",
    "    nw_input[ii, ...] = utils.sense1(sub_kspace, sens_maps[ii, ...])\n",
    "\n",
    "print(sub_kspace)"
   ]
  },
  {
   "cell_type": "code",
   "execution_count": null,
   "metadata": {},
   "outputs": [],
   "source": []
  }
 ]
}